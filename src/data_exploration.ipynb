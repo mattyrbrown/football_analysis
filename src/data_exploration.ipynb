{
 "cells": [
  {
   "cell_type": "code",
   "execution_count": 1,
   "metadata": {},
   "outputs": [],
   "source": [
    "import pandas as pd\n",
    "import numpy as np\n",
    "\n",
    "from config import *"
   ]
  },
  {
   "cell_type": "code",
   "execution_count": 2,
   "metadata": {},
   "outputs": [
    {
     "data": {
      "text/html": [
       "<div>\n",
       "<style scoped>\n",
       "    .dataframe tbody tr th:only-of-type {\n",
       "        vertical-align: middle;\n",
       "    }\n",
       "\n",
       "    .dataframe tbody tr th {\n",
       "        vertical-align: top;\n",
       "    }\n",
       "\n",
       "    .dataframe thead th {\n",
       "        text-align: right;\n",
       "    }\n",
       "</style>\n",
       "<table border=\"1\" class=\"dataframe\">\n",
       "  <thead>\n",
       "    <tr style=\"text-align: right;\">\n",
       "      <th></th>\n",
       "      <th>MatchID</th>\n",
       "      <th>TeamID</th>\n",
       "      <th>TeamName</th>\n",
       "      <th>PlayerID</th>\n",
       "      <th>PlayerName</th>\n",
       "      <th>EventID</th>\n",
       "      <th>match_period</th>\n",
       "      <th>event_timestamp</th>\n",
       "      <th>type_name</th>\n",
       "      <th>play_pattern_name</th>\n",
       "      <th>...</th>\n",
       "      <th>duel_type_name</th>\n",
       "      <th>pass_outcome_name</th>\n",
       "      <th>pass_end_location_x</th>\n",
       "      <th>pass_end_location_y</th>\n",
       "      <th>pass_height_name</th>\n",
       "      <th>pass_assisted_shot_id</th>\n",
       "      <th>shot_aerial_won</th>\n",
       "      <th>expected_goals</th>\n",
       "      <th>EventValue</th>\n",
       "      <th>MinutesPlayed</th>\n",
       "    </tr>\n",
       "  </thead>\n",
       "  <tbody>\n",
       "    <tr>\n",
       "      <th>0</th>\n",
       "      <td>86</td>\n",
       "      <td>0</td>\n",
       "      <td>North Alps United</td>\n",
       "      <td>0</td>\n",
       "      <td>Julian Martins</td>\n",
       "      <td>ae6af116-3a60-4923-89dc-b47f3c011fcc</td>\n",
       "      <td>2</td>\n",
       "      <td>00:36:45.360</td>\n",
       "      <td>Pass</td>\n",
       "      <td>From Throw In</td>\n",
       "      <td>...</td>\n",
       "      <td>NaN</td>\n",
       "      <td>NaN</td>\n",
       "      <td>86.95</td>\n",
       "      <td>27.46</td>\n",
       "      <td>Ground Pass</td>\n",
       "      <td>NaN</td>\n",
       "      <td>NaN</td>\n",
       "      <td>NaN</td>\n",
       "      <td>-0.000558</td>\n",
       "      <td>95.207767</td>\n",
       "    </tr>\n",
       "    <tr>\n",
       "      <th>1</th>\n",
       "      <td>84</td>\n",
       "      <td>0</td>\n",
       "      <td>North Alps United</td>\n",
       "      <td>0</td>\n",
       "      <td>Julian Martins</td>\n",
       "      <td>409df137-d15f-4f6e-863b-c753ee430924</td>\n",
       "      <td>1</td>\n",
       "      <td>00:30:26.359</td>\n",
       "      <td>Pass</td>\n",
       "      <td>From Goal Kick</td>\n",
       "      <td>...</td>\n",
       "      <td>NaN</td>\n",
       "      <td>NaN</td>\n",
       "      <td>83.99</td>\n",
       "      <td>74.25</td>\n",
       "      <td>Ground Pass</td>\n",
       "      <td>NaN</td>\n",
       "      <td>NaN</td>\n",
       "      <td>NaN</td>\n",
       "      <td>-0.001029</td>\n",
       "      <td>87.712067</td>\n",
       "    </tr>\n",
       "    <tr>\n",
       "      <th>2</th>\n",
       "      <td>85</td>\n",
       "      <td>4</td>\n",
       "      <td>AFC White Forest</td>\n",
       "      <td>3</td>\n",
       "      <td>Samuel Garnier</td>\n",
       "      <td>544a0991-add5-4625-bdcd-49b9ccda6be0</td>\n",
       "      <td>1</td>\n",
       "      <td>00:08:59.470</td>\n",
       "      <td>Pressure</td>\n",
       "      <td>Regular Play</td>\n",
       "      <td>...</td>\n",
       "      <td>NaN</td>\n",
       "      <td>NaN</td>\n",
       "      <td>NaN</td>\n",
       "      <td>NaN</td>\n",
       "      <td>NaN</td>\n",
       "      <td>NaN</td>\n",
       "      <td>NaN</td>\n",
       "      <td>NaN</td>\n",
       "      <td>0.001199</td>\n",
       "      <td>97.151300</td>\n",
       "    </tr>\n",
       "    <tr>\n",
       "      <th>3</th>\n",
       "      <td>86</td>\n",
       "      <td>0</td>\n",
       "      <td>North Alps United</td>\n",
       "      <td>0</td>\n",
       "      <td>Julian Martins</td>\n",
       "      <td>3433bef8-2f66-4a2e-aa5c-9b99efb3a8d5</td>\n",
       "      <td>1</td>\n",
       "      <td>00:23:17.999</td>\n",
       "      <td>Ball Receipt*</td>\n",
       "      <td>From Throw In</td>\n",
       "      <td>...</td>\n",
       "      <td>NaN</td>\n",
       "      <td>NaN</td>\n",
       "      <td>NaN</td>\n",
       "      <td>NaN</td>\n",
       "      <td>NaN</td>\n",
       "      <td>NaN</td>\n",
       "      <td>NaN</td>\n",
       "      <td>NaN</td>\n",
       "      <td>-0.000302</td>\n",
       "      <td>95.207767</td>\n",
       "    </tr>\n",
       "    <tr>\n",
       "      <th>4</th>\n",
       "      <td>84</td>\n",
       "      <td>0</td>\n",
       "      <td>North Alps United</td>\n",
       "      <td>0</td>\n",
       "      <td>Julian Martins</td>\n",
       "      <td>284de480-467c-40be-b38d-8d3237e98e6d</td>\n",
       "      <td>1</td>\n",
       "      <td>00:10:17.349</td>\n",
       "      <td>Carry</td>\n",
       "      <td>Regular Play</td>\n",
       "      <td>...</td>\n",
       "      <td>NaN</td>\n",
       "      <td>NaN</td>\n",
       "      <td>NaN</td>\n",
       "      <td>NaN</td>\n",
       "      <td>NaN</td>\n",
       "      <td>NaN</td>\n",
       "      <td>NaN</td>\n",
       "      <td>NaN</td>\n",
       "      <td>-0.012863</td>\n",
       "      <td>87.712067</td>\n",
       "    </tr>\n",
       "  </tbody>\n",
       "</table>\n",
       "<p>5 rows × 32 columns</p>\n",
       "</div>"
      ],
      "text/plain": [
       "   MatchID  TeamID           TeamName  PlayerID      PlayerName  \\\n",
       "0       86       0  North Alps United         0  Julian Martins   \n",
       "1       84       0  North Alps United         0  Julian Martins   \n",
       "2       85       4   AFC White Forest         3  Samuel Garnier   \n",
       "3       86       0  North Alps United         0  Julian Martins   \n",
       "4       84       0  North Alps United         0  Julian Martins   \n",
       "\n",
       "                                EventID  match_period event_timestamp  \\\n",
       "0  ae6af116-3a60-4923-89dc-b47f3c011fcc             2    00:36:45.360   \n",
       "1  409df137-d15f-4f6e-863b-c753ee430924             1    00:30:26.359   \n",
       "2  544a0991-add5-4625-bdcd-49b9ccda6be0             1    00:08:59.470   \n",
       "3  3433bef8-2f66-4a2e-aa5c-9b99efb3a8d5             1    00:23:17.999   \n",
       "4  284de480-467c-40be-b38d-8d3237e98e6d             1    00:10:17.349   \n",
       "\n",
       "       type_name play_pattern_name  ...  duel_type_name  pass_outcome_name  \\\n",
       "0           Pass     From Throw In  ...             NaN                NaN   \n",
       "1           Pass    From Goal Kick  ...             NaN                NaN   \n",
       "2       Pressure      Regular Play  ...             NaN                NaN   \n",
       "3  Ball Receipt*     From Throw In  ...             NaN                NaN   \n",
       "4          Carry      Regular Play  ...             NaN                NaN   \n",
       "\n",
       "  pass_end_location_x  pass_end_location_y  pass_height_name  \\\n",
       "0               86.95                27.46       Ground Pass   \n",
       "1               83.99                74.25       Ground Pass   \n",
       "2                 NaN                  NaN               NaN   \n",
       "3                 NaN                  NaN               NaN   \n",
       "4                 NaN                  NaN               NaN   \n",
       "\n",
       "   pass_assisted_shot_id  shot_aerial_won expected_goals  EventValue  \\\n",
       "0                    NaN              NaN            NaN   -0.000558   \n",
       "1                    NaN              NaN            NaN   -0.001029   \n",
       "2                    NaN              NaN            NaN    0.001199   \n",
       "3                    NaN              NaN            NaN   -0.000302   \n",
       "4                    NaN              NaN            NaN   -0.012863   \n",
       "\n",
       "   MinutesPlayed  \n",
       "0      95.207767  \n",
       "1      87.712067  \n",
       "2      97.151300  \n",
       "3      95.207767  \n",
       "4      87.712067  \n",
       "\n",
       "[5 rows x 32 columns]"
      ]
     },
     "execution_count": 2,
     "metadata": {},
     "output_type": "execute_result"
    }
   ],
   "source": [
    "events_df = pd.read_csv('../data/raw/EventLevelData.csv')\n",
    "events_df.head(5)"
   ]
  },
  {
   "cell_type": "code",
   "execution_count": 12,
   "metadata": {},
   "outputs": [
    {
     "data": {
      "text/html": [
       "<div>\n",
       "<style scoped>\n",
       "    .dataframe tbody tr th:only-of-type {\n",
       "        vertical-align: middle;\n",
       "    }\n",
       "\n",
       "    .dataframe tbody tr th {\n",
       "        vertical-align: top;\n",
       "    }\n",
       "\n",
       "    .dataframe thead th {\n",
       "        text-align: right;\n",
       "    }\n",
       "</style>\n",
       "<table border=\"1\" class=\"dataframe\">\n",
       "  <thead>\n",
       "    <tr style=\"text-align: right;\">\n",
       "      <th></th>\n",
       "      <th>MatchID</th>\n",
       "      <th>MatchDateTime</th>\n",
       "      <th>HomeTeamID</th>\n",
       "      <th>AwayTeamID</th>\n",
       "      <th>HomeElo</th>\n",
       "      <th>AwayElo</th>\n",
       "      <th>HomeTeamXG</th>\n",
       "      <th>AwayTeamXG</th>\n",
       "      <th>HomeGoals</th>\n",
       "      <th>AwayGoals</th>\n",
       "    </tr>\n",
       "  </thead>\n",
       "  <tbody>\n",
       "    <tr>\n",
       "      <th>0</th>\n",
       "      <td>158</td>\n",
       "      <td>2024-11-26 20:00:00</td>\n",
       "      <td>2.0</td>\n",
       "      <td>118.0</td>\n",
       "      <td>1586.922101</td>\n",
       "      <td>1452.824546</td>\n",
       "      <td>1.772981</td>\n",
       "      <td>1.012384</td>\n",
       "      <td>1</td>\n",
       "      <td>0</td>\n",
       "    </tr>\n",
       "    <tr>\n",
       "      <th>1</th>\n",
       "      <td>48</td>\n",
       "      <td>2024-09-28 14:30:00</td>\n",
       "      <td>27.0</td>\n",
       "      <td>1.0</td>\n",
       "      <td>1125.956205</td>\n",
       "      <td>1332.964825</td>\n",
       "      <td>0.459880</td>\n",
       "      <td>1.659593</td>\n",
       "      <td>0</td>\n",
       "      <td>2</td>\n",
       "    </tr>\n",
       "    <tr>\n",
       "      <th>2</th>\n",
       "      <td>143</td>\n",
       "      <td>2024-09-28 16:30:00</td>\n",
       "      <td>2.0</td>\n",
       "      <td>93.0</td>\n",
       "      <td>1566.872248</td>\n",
       "      <td>1500.869545</td>\n",
       "      <td>1.220850</td>\n",
       "      <td>0.200676</td>\n",
       "      <td>1</td>\n",
       "      <td>1</td>\n",
       "    </tr>\n",
       "    <tr>\n",
       "      <th>3</th>\n",
       "      <td>55</td>\n",
       "      <td>2024-05-19 15:00:00</td>\n",
       "      <td>35.0</td>\n",
       "      <td>5.0</td>\n",
       "      <td>1456.428244</td>\n",
       "      <td>1364.767279</td>\n",
       "      <td>1.125992</td>\n",
       "      <td>2.267471</td>\n",
       "      <td>2</td>\n",
       "      <td>0</td>\n",
       "    </tr>\n",
       "    <tr>\n",
       "      <th>4</th>\n",
       "      <td>104</td>\n",
       "      <td>2024-09-30 19:00:00</td>\n",
       "      <td>5.0</td>\n",
       "      <td>56.0</td>\n",
       "      <td>1368.433022</td>\n",
       "      <td>1302.558780</td>\n",
       "      <td>1.360136</td>\n",
       "      <td>0.463532</td>\n",
       "      <td>3</td>\n",
       "      <td>1</td>\n",
       "    </tr>\n",
       "  </tbody>\n",
       "</table>\n",
       "</div>"
      ],
      "text/plain": [
       "   MatchID        MatchDateTime  HomeTeamID  AwayTeamID      HomeElo  \\\n",
       "0      158  2024-11-26 20:00:00         2.0       118.0  1586.922101   \n",
       "1       48  2024-09-28 14:30:00        27.0         1.0  1125.956205   \n",
       "2      143  2024-09-28 16:30:00         2.0        93.0  1566.872248   \n",
       "3       55  2024-05-19 15:00:00        35.0         5.0  1456.428244   \n",
       "4      104  2024-09-30 19:00:00         5.0        56.0  1368.433022   \n",
       "\n",
       "       AwayElo  HomeTeamXG  AwayTeamXG  HomeGoals  AwayGoals  \n",
       "0  1452.824546    1.772981    1.012384          1          0  \n",
       "1  1332.964825    0.459880    1.659593          0          2  \n",
       "2  1500.869545    1.220850    0.200676          1          1  \n",
       "3  1364.767279    1.125992    2.267471          2          0  \n",
       "4  1302.558780    1.360136    0.463532          3          1  "
      ]
     },
     "execution_count": 12,
     "metadata": {},
     "output_type": "execute_result"
    }
   ],
   "source": [
    "matches_df = pd.read_csv('../data/raw/MatchLevelData.csv')\n",
    "matches_df.head(5)"
   ]
  },
  {
   "cell_type": "code",
   "execution_count": 3,
   "metadata": {},
   "outputs": [
    {
     "data": {
      "text/plain": [
       "Index(['MatchID', 'TeamID', 'TeamName', 'PlayerID', 'PlayerName', 'EventID',\n",
       "       'match_period', 'event_timestamp', 'type_name', 'play_pattern_name',\n",
       "       'location_x', 'location_y', 'under_pressure', 'goal', 'free_kick',\n",
       "       'penalty', 'ball_receipt_outcome_name', 'clearance_aerial_won',\n",
       "       'carry_end_location_x', 'carry_end_location_y', 'dribble_outcome_name',\n",
       "       'duel_outcome_name', 'duel_type_name', 'pass_outcome_name',\n",
       "       'pass_end_location_x', 'pass_end_location_y', 'pass_height_name',\n",
       "       'pass_assisted_shot_id', 'shot_aerial_won', 'expected_goals',\n",
       "       'EventValue', 'MinutesPlayed'],\n",
       "      dtype='object')"
      ]
     },
     "execution_count": 3,
     "metadata": {},
     "output_type": "execute_result"
    }
   ],
   "source": [
    "events_df.columns"
   ]
  },
  {
   "cell_type": "code",
   "execution_count": 4,
   "metadata": {},
   "outputs": [
    {
     "name": "stdout",
     "output_type": "stream",
     "text": [
      "Number of matches in events data: 178\n",
      "Number of players in events data: 5\n",
      "Number of event types in events data: ['Pass' 'Pressure' 'Ball Receipt*' 'Carry' 'Duel' 'Dribble' 'Shot'\n",
      " 'Clearance']\n"
     ]
    }
   ],
   "source": [
    "print(f\"Number of matches in events data: {events_df['MatchID'].nunique()}\")\n",
    "print(f\"Number of players in events data: {events_df['PlayerID'].nunique()}\")\n",
    "print(f\"Number of event types in events data: {events_df['type_name'].unique()}\")"
   ]
  },
  {
   "cell_type": "code",
   "execution_count": 14,
   "metadata": {},
   "outputs": [
    {
     "name": "stdout",
     "output_type": "stream",
     "text": [
      "Number of matches in matches data: 178\n"
     ]
    }
   ],
   "source": [
    "print(f\"Number of matches in matches data: {events_df['MatchID'].nunique()}\")"
   ]
  },
  {
   "cell_type": "code",
   "execution_count": 5,
   "metadata": {},
   "outputs": [
    {
     "data": {
      "text/plain": [
       "PlayerName\n",
       "Arthur Senyo      35\n",
       "Benjamin Brody    35\n",
       "Jordan Bamba      41\n",
       "Julian Martins    39\n",
       "Samuel Garnier    32\n",
       "Name: MatchID, dtype: int64"
      ]
     },
     "execution_count": 5,
     "metadata": {},
     "output_type": "execute_result"
    }
   ],
   "source": [
    "events_df.groupby('PlayerName')['MatchID'].nunique()"
   ]
  },
  {
   "cell_type": "code",
   "execution_count": 8,
   "metadata": {},
   "outputs": [
    {
     "data": {
      "text/plain": [
       "array([12])"
      ]
     },
     "execution_count": 8,
     "metadata": {},
     "output_type": "execute_result"
    }
   ],
   "source": [
    "events_df[EVENT_TIMESTAMP].str.len().unique()"
   ]
  },
  {
   "cell_type": "code",
   "execution_count": 11,
   "metadata": {},
   "outputs": [
    {
     "name": "stderr",
     "output_type": "stream",
     "text": [
      "/var/folders/bk/p0hf4p4s2r94_pdnrzmls1yr0000gp/T/ipykernel_42153/68817752.py:1: UserWarning: Could not infer format, so each element will be parsed individually, falling back to `dateutil`. To ensure parsing is consistent and as-expected, please specify a format.\n",
      "  pd.to_datetime(events_df[EVENT_TIMESTAMP])\n"
     ]
    },
    {
     "data": {
      "text/plain": [
       "0       2024-12-14 00:36:45.360\n",
       "1       2024-12-14 00:30:26.359\n",
       "2       2024-12-14 00:08:59.470\n",
       "3       2024-12-14 00:23:17.999\n",
       "4       2024-12-14 00:10:17.349\n",
       "                  ...          \n",
       "20546   2024-12-14 00:35:05.240\n",
       "20547   2024-12-14 00:43:43.177\n",
       "20548   2024-12-14 00:31:03.711\n",
       "20549   2024-12-14 00:34:37.431\n",
       "20550   2024-12-14 00:49:32.651\n",
       "Name: event_timestamp, Length: 20551, dtype: datetime64[ns]"
      ]
     },
     "execution_count": 11,
     "metadata": {},
     "output_type": "execute_result"
    }
   ],
   "source": [
    "pd.to_datetime(events_df[EVENT_TIMESTAMP])"
   ]
  },
  {
   "cell_type": "code",
   "execution_count": 17,
   "metadata": {},
   "outputs": [
    {
     "data": {
      "text/plain": [
       "array([147, 127])"
      ]
     },
     "execution_count": 17,
     "metadata": {},
     "output_type": "execute_result"
    }
   ],
   "source": [
    "joined_df = events_df.merge(matches_df, on='MatchID', how='left')\n",
    "joined_df[joined_df['HomeTeamID'].isnull()][MATCH_ID].unique()"
   ]
  },
  {
   "cell_type": "code",
   "execution_count": 24,
   "metadata": {},
   "outputs": [],
   "source": [
    "test = events_df.groupby(MATCH_ID, as_index=False)['TeamID'].unique()"
   ]
  },
  {
   "cell_type": "code",
   "execution_count": 27,
   "metadata": {},
   "outputs": [],
   "source": [
    "test2 = matches_df.merge(test, on=MATCH_ID, how='left')"
   ]
  },
  {
   "cell_type": "code",
   "execution_count": 30,
   "metadata": {},
   "outputs": [],
   "source": [
    "test2['match'] = test2.apply(lambda row: ((row['HomeTeamID'] in (row['TeamID'])) | (row['AwayTeamID'] in (row['TeamID']))), axis=1)"
   ]
  },
  {
   "cell_type": "code",
   "execution_count": 33,
   "metadata": {},
   "outputs": [
    {
     "data": {
      "text/plain": [
       "40"
      ]
     },
     "execution_count": 33,
     "metadata": {},
     "output_type": "execute_result"
    }
   ],
   "source": [
    "test2[test2['match'] == True]['MatchID'].nunique()"
   ]
  },
  {
   "cell_type": "code",
   "execution_count": 34,
   "metadata": {},
   "outputs": [
    {
     "name": "stdout",
     "output_type": "stream",
     "text": [
      "Min x dimension: 0.72\n",
      "Max x dimension: 120.1\n",
      "Min y dimension: 0.1\n",
      "Max y dimension: 80.1\n"
     ]
    }
   ],
   "source": [
    "print(f\"Min x dimension: {events_df[LOCATION_X].min()}\")\n",
    "print(f\"Max x dimension: {events_df[LOCATION_X].max()}\")\n",
    "print(f\"Min y dimension: {events_df[LOCATION_Y].min()}\")\n",
    "print(f\"Max y dimension: {events_df[LOCATION_Y].max()}\")"
   ]
  },
  {
   "cell_type": "code",
   "execution_count": null,
   "metadata": {},
   "outputs": [],
   "source": []
  }
 ],
 "metadata": {
  "kernelspec": {
   "display_name": "football_analysis",
   "language": "python",
   "name": "football_analysis"
  },
  "language_info": {
   "codemirror_mode": {
    "name": "ipython",
    "version": 3
   },
   "file_extension": ".py",
   "mimetype": "text/x-python",
   "name": "python",
   "nbconvert_exporter": "python",
   "pygments_lexer": "ipython3",
   "version": "3.11.7"
  }
 },
 "nbformat": 4,
 "nbformat_minor": 2
}
